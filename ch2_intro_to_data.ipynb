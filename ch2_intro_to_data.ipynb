{
  "nbformat": 4,
  "nbformat_minor": 0,
  "metadata": {
    "kernelspec": {
      "display_name": "Python 3",
      "language": "python",
      "name": "python3"
    },
    "language_info": {
      "codemirror_mode": {
        "name": "ipython",
        "version": 3
      },
      "file_extension": ".py",
      "mimetype": "text/x-python",
      "name": "python",
      "nbconvert_exporter": "python",
      "pygments_lexer": "ipython3",
      "version": "3.7.3"
    },
    "colab": {
      "name": "ch2_intro_to_data.ipynb",
      "provenance": []
    }
  },
  "cells": [
    {
      "cell_type": "markdown",
      "metadata": {
        "id": "5e21Frnu04YF",
        "colab_type": "text"
      },
      "source": [
        "# Introduction to data"
      ]
    },
    {
      "cell_type": "markdown",
      "metadata": {
        "id": "InjsFitf04YM",
        "colab_type": "text"
      },
      "source": [
        "Some define **Statistics** as the field that focuses on turning information into knowledge. The first step in that process is to summarize and describe the raw information - the data. In this lab, you will gain insight into public health by generating simple graphical and numerical summaries of a data set collected by the Centers for Disease Control and Prevention (CDC). As this is a large data set, along the way you'll also learn the indispensable skills of data processing and subsetting."
      ]
    },
    {
      "cell_type": "markdown",
      "metadata": {
        "id": "o2fuAyRI04YR",
        "colab_type": "text"
      },
      "source": [
        "## Getting started"
      ]
    },
    {
      "cell_type": "markdown",
      "metadata": {
        "id": "JdJsW4tG04YZ",
        "colab_type": "text"
      },
      "source": [
        "The Behavioral Risk Factor Surveillance System (BRFSS) is an annual telephone survey of 350,000 people in the United States. As its name implies, the BRFSS is designed to identify risk factors in the adult population and report emerging health trends. For example, respondents are asked about their diet and weekly physical activity, their HIV/AIDS status, possible tobacco use, and even their level of healthcare coverage. The BRFSS Web site (http://www.cdc.gov/brfss) contains a complete description of the survey, including the research questions that motivate the study and many interesting results derived from the data.\n",
        "\n",
        "We will focus on a random sample of 20,000 people from the BRFSS survey conducted in 2000. While there are over 200 variables in this data set, we will work with a small subset.\n",
        "\n",
        "We begin by importing the dataset of 20,000 observations from the Cloud."
      ]
    },
    {
      "cell_type": "code",
      "metadata": {
        "id": "WQ3oQE7N04Ye",
        "colab_type": "code",
        "colab": {}
      },
      "source": [
        "# for Mac OS users only!\n",
        "# if you run into any SSL certification issues, \n",
        "# you may need to run the following command for a Mac OS installation.\n",
        "# $/Applications/Python 3.x/Install Certificates.command\n",
        "import os, ssl\n",
        "if (not os.environ.get('PYTHONHTTPSVERIFY', '') and\n",
        "    getattr(ssl, '_create_unverified_context', None)): \n",
        "    ssl._create_default_https_context = ssl._create_unverified_context"
      ],
      "execution_count": 0,
      "outputs": []
    },
    {
      "cell_type": "code",
      "metadata": {
        "id": "6OFg7Zr504Yu",
        "colab_type": "code",
        "colab": {
          "base_uri": "https://localhost:8080/",
          "height": 419
        },
        "outputId": "73b12823-9bb3-4f9e-874f-c8b09d297229"
      },
      "source": [
        "import pandas as pd\n",
        "\n",
        "cdc = pd.read_csv('https://www.openintro.org/stat/data/cdc.csv')\n",
        "cdc"
      ],
      "execution_count": 2,
      "outputs": [
        {
          "output_type": "execute_result",
          "data": {
            "text/html": [
              "<div>\n",
              "<style scoped>\n",
              "    .dataframe tbody tr th:only-of-type {\n",
              "        vertical-align: middle;\n",
              "    }\n",
              "\n",
              "    .dataframe tbody tr th {\n",
              "        vertical-align: top;\n",
              "    }\n",
              "\n",
              "    .dataframe thead th {\n",
              "        text-align: right;\n",
              "    }\n",
              "</style>\n",
              "<table border=\"1\" class=\"dataframe\">\n",
              "  <thead>\n",
              "    <tr style=\"text-align: right;\">\n",
              "      <th></th>\n",
              "      <th>genhlth</th>\n",
              "      <th>exerany</th>\n",
              "      <th>hlthplan</th>\n",
              "      <th>smoke100</th>\n",
              "      <th>height</th>\n",
              "      <th>weight</th>\n",
              "      <th>wtdesire</th>\n",
              "      <th>age</th>\n",
              "      <th>gender</th>\n",
              "    </tr>\n",
              "  </thead>\n",
              "  <tbody>\n",
              "    <tr>\n",
              "      <th>0</th>\n",
              "      <td>good</td>\n",
              "      <td>0</td>\n",
              "      <td>1</td>\n",
              "      <td>0</td>\n",
              "      <td>70</td>\n",
              "      <td>175</td>\n",
              "      <td>175</td>\n",
              "      <td>77</td>\n",
              "      <td>m</td>\n",
              "    </tr>\n",
              "    <tr>\n",
              "      <th>1</th>\n",
              "      <td>good</td>\n",
              "      <td>0</td>\n",
              "      <td>1</td>\n",
              "      <td>1</td>\n",
              "      <td>64</td>\n",
              "      <td>125</td>\n",
              "      <td>115</td>\n",
              "      <td>33</td>\n",
              "      <td>f</td>\n",
              "    </tr>\n",
              "    <tr>\n",
              "      <th>2</th>\n",
              "      <td>good</td>\n",
              "      <td>1</td>\n",
              "      <td>1</td>\n",
              "      <td>1</td>\n",
              "      <td>60</td>\n",
              "      <td>105</td>\n",
              "      <td>105</td>\n",
              "      <td>49</td>\n",
              "      <td>f</td>\n",
              "    </tr>\n",
              "    <tr>\n",
              "      <th>3</th>\n",
              "      <td>good</td>\n",
              "      <td>1</td>\n",
              "      <td>1</td>\n",
              "      <td>0</td>\n",
              "      <td>66</td>\n",
              "      <td>132</td>\n",
              "      <td>124</td>\n",
              "      <td>42</td>\n",
              "      <td>f</td>\n",
              "    </tr>\n",
              "    <tr>\n",
              "      <th>4</th>\n",
              "      <td>very good</td>\n",
              "      <td>0</td>\n",
              "      <td>1</td>\n",
              "      <td>0</td>\n",
              "      <td>61</td>\n",
              "      <td>150</td>\n",
              "      <td>130</td>\n",
              "      <td>55</td>\n",
              "      <td>f</td>\n",
              "    </tr>\n",
              "    <tr>\n",
              "      <th>...</th>\n",
              "      <td>...</td>\n",
              "      <td>...</td>\n",
              "      <td>...</td>\n",
              "      <td>...</td>\n",
              "      <td>...</td>\n",
              "      <td>...</td>\n",
              "      <td>...</td>\n",
              "      <td>...</td>\n",
              "      <td>...</td>\n",
              "    </tr>\n",
              "    <tr>\n",
              "      <th>19995</th>\n",
              "      <td>good</td>\n",
              "      <td>1</td>\n",
              "      <td>1</td>\n",
              "      <td>0</td>\n",
              "      <td>66</td>\n",
              "      <td>215</td>\n",
              "      <td>140</td>\n",
              "      <td>23</td>\n",
              "      <td>f</td>\n",
              "    </tr>\n",
              "    <tr>\n",
              "      <th>19996</th>\n",
              "      <td>excellent</td>\n",
              "      <td>0</td>\n",
              "      <td>1</td>\n",
              "      <td>0</td>\n",
              "      <td>73</td>\n",
              "      <td>200</td>\n",
              "      <td>185</td>\n",
              "      <td>35</td>\n",
              "      <td>m</td>\n",
              "    </tr>\n",
              "    <tr>\n",
              "      <th>19997</th>\n",
              "      <td>poor</td>\n",
              "      <td>0</td>\n",
              "      <td>1</td>\n",
              "      <td>0</td>\n",
              "      <td>65</td>\n",
              "      <td>216</td>\n",
              "      <td>150</td>\n",
              "      <td>57</td>\n",
              "      <td>f</td>\n",
              "    </tr>\n",
              "    <tr>\n",
              "      <th>19998</th>\n",
              "      <td>good</td>\n",
              "      <td>1</td>\n",
              "      <td>1</td>\n",
              "      <td>0</td>\n",
              "      <td>67</td>\n",
              "      <td>165</td>\n",
              "      <td>165</td>\n",
              "      <td>81</td>\n",
              "      <td>f</td>\n",
              "    </tr>\n",
              "    <tr>\n",
              "      <th>19999</th>\n",
              "      <td>good</td>\n",
              "      <td>1</td>\n",
              "      <td>1</td>\n",
              "      <td>1</td>\n",
              "      <td>69</td>\n",
              "      <td>170</td>\n",
              "      <td>165</td>\n",
              "      <td>83</td>\n",
              "      <td>m</td>\n",
              "    </tr>\n",
              "  </tbody>\n",
              "</table>\n",
              "<p>20000 rows × 9 columns</p>\n",
              "</div>"
            ],
            "text/plain": [
              "         genhlth  exerany  hlthplan  smoke100  ...  weight  wtdesire  age  gender\n",
              "0           good        0         1         0  ...     175       175   77       m\n",
              "1           good        0         1         1  ...     125       115   33       f\n",
              "2           good        1         1         1  ...     105       105   49       f\n",
              "3           good        1         1         0  ...     132       124   42       f\n",
              "4      very good        0         1         0  ...     150       130   55       f\n",
              "...          ...      ...       ...       ...  ...     ...       ...  ...     ...\n",
              "19995       good        1         1         0  ...     215       140   23       f\n",
              "19996  excellent        0         1         0  ...     200       185   35       m\n",
              "19997       poor        0         1         0  ...     216       150   57       f\n",
              "19998       good        1         1         0  ...     165       165   81       f\n",
              "19999       good        1         1         1  ...     170       165   83       m\n",
              "\n",
              "[20000 rows x 9 columns]"
            ]
          },
          "metadata": {
            "tags": []
          },
          "execution_count": 2
        }
      ]
    },
    {
      "cell_type": "markdown",
      "metadata": {
        "id": "y4jE6UNe04Y7",
        "colab_type": "text"
      },
      "source": [
        "The data set `cdc` that shows up is a data matrix, with each row representing a case and each column representing a variable. These kind of data format are called data frame, which is a term that will be used throughout the labs.\n",
        "\n",
        "To view the names of the variables, use `columns.values`"
      ]
    },
    {
      "cell_type": "code",
      "metadata": {
        "id": "0eUfmCVQ04ZA",
        "colab_type": "code",
        "colab": {},
        "outputId": "dde421e1-52ca-483a-8c12-15015e3b7fe7"
      },
      "source": [
        "cdc.columns.values"
      ],
      "execution_count": 0,
      "outputs": [
        {
          "output_type": "execute_result",
          "data": {
            "text/plain": [
              "array(['genhlth', 'exerany', 'hlthplan', 'smoke100', 'height', 'weight',\n",
              "       'wtdesire', 'age', 'gender'], dtype=object)"
            ]
          },
          "metadata": {
            "tags": []
          },
          "execution_count": 3
        }
      ]
    },
    {
      "cell_type": "markdown",
      "metadata": {
        "id": "Iz0hFQQR04ZI",
        "colab_type": "text"
      },
      "source": [
        "This returns the names `genhlth`, `exerany`, `hlthplan`, `smoke100`, `height`, `weight`, `wtdesire`, `age`, and `gender`. Each one of these variables corresponds to a question that was asked in the survey. For example, for `genhlth`, respondents were asked to evaluate their general health, responding either excellent, very good, good, fair or poor. The `exerany` variable indicates whether the respondent exercised in the past month (1) or did not (0). Likewise, `hlthplan` indicates whether the respondent had some form of health coverage (1) or did not (0). The `smoke100` variable indicates whether the respondent had smoked at least 100 cigarettes in her lifetime. The other variables record the respondent’s `height` in inches, `weight` in pounds as well as their desired weight, `wtdesire`, `age` in years, and `gender`."
      ]
    },
    {
      "cell_type": "markdown",
      "metadata": {
        "id": "YeQOyf1I04ZK",
        "colab_type": "text"
      },
      "source": [
        "<div class = 'exercise'>\n",
        "<h4>Exercise 1</h4>\n",
        "How many cases are there in this data set? How many variables? For each variable, identify its data type (e.g. categorical, discrete).\n",
        "</div>"
      ]
    },
    {
      "cell_type": "markdown",
      "metadata": {
        "id": "0zDWR1EZ04ZP",
        "colab_type": "text"
      },
      "source": [
        "We can have a look at the first few entries (rows) of our data with the command"
      ]
    },
    {
      "cell_type": "code",
      "metadata": {
        "id": "K8OCmgjG04ZR",
        "colab_type": "code",
        "colab": {},
        "outputId": "16bbb28b-bbbe-46d3-dccc-3ebd6d8d8fc8"
      },
      "source": [
        "cdc.head()"
      ],
      "execution_count": 0,
      "outputs": [
        {
          "output_type": "execute_result",
          "data": {
            "text/html": [
              "<div>\n",
              "<style scoped>\n",
              "    .dataframe tbody tr th:only-of-type {\n",
              "        vertical-align: middle;\n",
              "    }\n",
              "\n",
              "    .dataframe tbody tr th {\n",
              "        vertical-align: top;\n",
              "    }\n",
              "\n",
              "    .dataframe thead th {\n",
              "        text-align: right;\n",
              "    }\n",
              "</style>\n",
              "<table border=\"1\" class=\"dataframe\">\n",
              "  <thead>\n",
              "    <tr style=\"text-align: right;\">\n",
              "      <th></th>\n",
              "      <th>genhlth</th>\n",
              "      <th>exerany</th>\n",
              "      <th>hlthplan</th>\n",
              "      <th>smoke100</th>\n",
              "      <th>height</th>\n",
              "      <th>weight</th>\n",
              "      <th>wtdesire</th>\n",
              "      <th>age</th>\n",
              "      <th>gender</th>\n",
              "    </tr>\n",
              "  </thead>\n",
              "  <tbody>\n",
              "    <tr>\n",
              "      <th>0</th>\n",
              "      <td>good</td>\n",
              "      <td>0</td>\n",
              "      <td>1</td>\n",
              "      <td>0</td>\n",
              "      <td>70</td>\n",
              "      <td>175</td>\n",
              "      <td>175</td>\n",
              "      <td>77</td>\n",
              "      <td>m</td>\n",
              "    </tr>\n",
              "    <tr>\n",
              "      <th>1</th>\n",
              "      <td>good</td>\n",
              "      <td>0</td>\n",
              "      <td>1</td>\n",
              "      <td>1</td>\n",
              "      <td>64</td>\n",
              "      <td>125</td>\n",
              "      <td>115</td>\n",
              "      <td>33</td>\n",
              "      <td>f</td>\n",
              "    </tr>\n",
              "    <tr>\n",
              "      <th>2</th>\n",
              "      <td>good</td>\n",
              "      <td>1</td>\n",
              "      <td>1</td>\n",
              "      <td>1</td>\n",
              "      <td>60</td>\n",
              "      <td>105</td>\n",
              "      <td>105</td>\n",
              "      <td>49</td>\n",
              "      <td>f</td>\n",
              "    </tr>\n",
              "    <tr>\n",
              "      <th>3</th>\n",
              "      <td>good</td>\n",
              "      <td>1</td>\n",
              "      <td>1</td>\n",
              "      <td>0</td>\n",
              "      <td>66</td>\n",
              "      <td>132</td>\n",
              "      <td>124</td>\n",
              "      <td>42</td>\n",
              "      <td>f</td>\n",
              "    </tr>\n",
              "    <tr>\n",
              "      <th>4</th>\n",
              "      <td>very good</td>\n",
              "      <td>0</td>\n",
              "      <td>1</td>\n",
              "      <td>0</td>\n",
              "      <td>61</td>\n",
              "      <td>150</td>\n",
              "      <td>130</td>\n",
              "      <td>55</td>\n",
              "      <td>f</td>\n",
              "    </tr>\n",
              "  </tbody>\n",
              "</table>\n",
              "</div>"
            ],
            "text/plain": [
              "     genhlth  exerany  hlthplan  smoke100  height  weight  wtdesire  age  \\\n",
              "0       good        0         1         0      70     175       175   77   \n",
              "1       good        0         1         1      64     125       115   33   \n",
              "2       good        1         1         1      60     105       105   49   \n",
              "3       good        1         1         0      66     132       124   42   \n",
              "4  very good        0         1         0      61     150       130   55   \n",
              "\n",
              "  gender  \n",
              "0      m  \n",
              "1      f  \n",
              "2      f  \n",
              "3      f  \n",
              "4      f  "
            ]
          },
          "metadata": {
            "tags": []
          },
          "execution_count": 4
        }
      ]
    },
    {
      "cell_type": "markdown",
      "metadata": {
        "id": "cgbDQ8ZC04ZY",
        "colab_type": "text"
      },
      "source": [
        "and similarly we can look at the last few by typing."
      ]
    },
    {
      "cell_type": "code",
      "metadata": {
        "id": "_mA2Zc_Z04Za",
        "colab_type": "code",
        "colab": {},
        "outputId": "42f19ebc-38c0-4c06-e504-46fe23893802"
      },
      "source": [
        "cdc.tail()"
      ],
      "execution_count": 0,
      "outputs": [
        {
          "output_type": "execute_result",
          "data": {
            "text/html": [
              "<div>\n",
              "<style scoped>\n",
              "    .dataframe tbody tr th:only-of-type {\n",
              "        vertical-align: middle;\n",
              "    }\n",
              "\n",
              "    .dataframe tbody tr th {\n",
              "        vertical-align: top;\n",
              "    }\n",
              "\n",
              "    .dataframe thead th {\n",
              "        text-align: right;\n",
              "    }\n",
              "</style>\n",
              "<table border=\"1\" class=\"dataframe\">\n",
              "  <thead>\n",
              "    <tr style=\"text-align: right;\">\n",
              "      <th></th>\n",
              "      <th>genhlth</th>\n",
              "      <th>exerany</th>\n",
              "      <th>hlthplan</th>\n",
              "      <th>smoke100</th>\n",
              "      <th>height</th>\n",
              "      <th>weight</th>\n",
              "      <th>wtdesire</th>\n",
              "      <th>age</th>\n",
              "      <th>gender</th>\n",
              "    </tr>\n",
              "  </thead>\n",
              "  <tbody>\n",
              "    <tr>\n",
              "      <th>19995</th>\n",
              "      <td>good</td>\n",
              "      <td>1</td>\n",
              "      <td>1</td>\n",
              "      <td>0</td>\n",
              "      <td>66</td>\n",
              "      <td>215</td>\n",
              "      <td>140</td>\n",
              "      <td>23</td>\n",
              "      <td>f</td>\n",
              "    </tr>\n",
              "    <tr>\n",
              "      <th>19996</th>\n",
              "      <td>excellent</td>\n",
              "      <td>0</td>\n",
              "      <td>1</td>\n",
              "      <td>0</td>\n",
              "      <td>73</td>\n",
              "      <td>200</td>\n",
              "      <td>185</td>\n",
              "      <td>35</td>\n",
              "      <td>m</td>\n",
              "    </tr>\n",
              "    <tr>\n",
              "      <th>19997</th>\n",
              "      <td>poor</td>\n",
              "      <td>0</td>\n",
              "      <td>1</td>\n",
              "      <td>0</td>\n",
              "      <td>65</td>\n",
              "      <td>216</td>\n",
              "      <td>150</td>\n",
              "      <td>57</td>\n",
              "      <td>f</td>\n",
              "    </tr>\n",
              "    <tr>\n",
              "      <th>19998</th>\n",
              "      <td>good</td>\n",
              "      <td>1</td>\n",
              "      <td>1</td>\n",
              "      <td>0</td>\n",
              "      <td>67</td>\n",
              "      <td>165</td>\n",
              "      <td>165</td>\n",
              "      <td>81</td>\n",
              "      <td>f</td>\n",
              "    </tr>\n",
              "    <tr>\n",
              "      <th>19999</th>\n",
              "      <td>good</td>\n",
              "      <td>1</td>\n",
              "      <td>1</td>\n",
              "      <td>1</td>\n",
              "      <td>69</td>\n",
              "      <td>170</td>\n",
              "      <td>165</td>\n",
              "      <td>83</td>\n",
              "      <td>m</td>\n",
              "    </tr>\n",
              "  </tbody>\n",
              "</table>\n",
              "</div>"
            ],
            "text/plain": [
              "         genhlth  exerany  hlthplan  smoke100  height  weight  wtdesire  age  \\\n",
              "19995       good        1         1         0      66     215       140   23   \n",
              "19996  excellent        0         1         0      73     200       185   35   \n",
              "19997       poor        0         1         0      65     216       150   57   \n",
              "19998       good        1         1         0      67     165       165   81   \n",
              "19999       good        1         1         1      69     170       165   83   \n",
              "\n",
              "      gender  \n",
              "19995      f  \n",
              "19996      m  \n",
              "19997      f  \n",
              "19998      f  \n",
              "19999      m  "
            ]
          },
          "metadata": {
            "tags": []
          },
          "execution_count": 5
        }
      ]
    },
    {
      "cell_type": "markdown",
      "metadata": {
        "id": "SzBu9n9J04Zi",
        "colab_type": "text"
      },
      "source": [
        "You could also look at all of the data frame at once by typing its name into the console, but that might be unwise here. We know `cdc` has 20,000 rows, so viewing the entire data set would mean flooding your screen. It’s better to take small peeks at the data with `head`, `tail` or the subsetting techniques that you’ll learn in a moment."
      ]
    },
    {
      "cell_type": "markdown",
      "metadata": {
        "id": "xHPwZm4F04Zk",
        "colab_type": "text"
      },
      "source": [
        "## Summaries and tables"
      ]
    },
    {
      "cell_type": "markdown",
      "metadata": {
        "id": "fPaUtQ1p04Zl",
        "colab_type": "text"
      },
      "source": [
        "The BRFSS questionnaire is a massive trove of information. A good first step in any analysis is to distill all of that information into a few summary statistics and graphics. As a simple example, the function `describe` returns a numerical summary: count, mean, standard deviation, minimum, first quartile, median, second quartile, and maximum. For `weight` this is"
      ]
    },
    {
      "cell_type": "code",
      "metadata": {
        "id": "YFZaN3R504Zn",
        "colab_type": "code",
        "colab": {},
        "outputId": "17ba895e-9113-4da5-ffb3-39b311241b41"
      },
      "source": [
        "cdc['weight'].describe()"
      ],
      "execution_count": 0,
      "outputs": [
        {
          "output_type": "execute_result",
          "data": {
            "text/plain": [
              "count    20000.00000\n",
              "mean       169.68295\n",
              "std         40.08097\n",
              "min         68.00000\n",
              "25%        140.00000\n",
              "50%        165.00000\n",
              "75%        190.00000\n",
              "max        500.00000\n",
              "Name: weight, dtype: float64"
            ]
          },
          "metadata": {
            "tags": []
          },
          "execution_count": 6
        }
      ]
    },
    {
      "cell_type": "markdown",
      "metadata": {
        "id": "-1NlVeXw04Zr",
        "colab_type": "text"
      },
      "source": [
        "If you wanted to compute the interquartile range for the respondents’ weight, you would look at the output from the summary command above and then enter"
      ]
    },
    {
      "cell_type": "code",
      "metadata": {
        "id": "lIDyW3qX04Zt",
        "colab_type": "code",
        "colab": {},
        "outputId": "424ce61f-18b5-4898-e296-6d5e48218cf9"
      },
      "source": [
        "190 - 140"
      ],
      "execution_count": 0,
      "outputs": [
        {
          "output_type": "execute_result",
          "data": {
            "text/plain": [
              "50"
            ]
          },
          "metadata": {
            "tags": []
          },
          "execution_count": 7
        }
      ]
    },
    {
      "cell_type": "markdown",
      "metadata": {
        "id": "tj1xhXFP04Z1",
        "colab_type": "text"
      },
      "source": [
        "Python also has built-in functions to compute summary statistics one by one. For instance, to calculate the mean, median, and variance of weight, type"
      ]
    },
    {
      "cell_type": "code",
      "metadata": {
        "id": "IJAqeOQo04Z3",
        "colab_type": "code",
        "colab": {},
        "outputId": "ce1b7742-6b3f-43f3-df4b-3f6735e6bb35"
      },
      "source": [
        "cdc['weight'].mean()\n",
        "cdc['weight'].var()\n",
        "cdc['weight'].median()"
      ],
      "execution_count": 0,
      "outputs": [
        {
          "output_type": "execute_result",
          "data": {
            "text/plain": [
              "165.0"
            ]
          },
          "metadata": {
            "tags": []
          },
          "execution_count": 8
        }
      ]
    },
    {
      "cell_type": "markdown",
      "metadata": {
        "id": "XWVjcgLR04Z-",
        "colab_type": "text"
      },
      "source": [
        "While it makes sense to describe a quantitative variable like `weight` in terms of these statistics, what about categorical data? We would instead consider the sample frequency or relative frequency distribution. The function `value_counts` does this for you by counting the number of times each kind of response was given. For example, to see the number of people who have smoked 100 cigarettes in their lifetime, type"
      ]
    },
    {
      "cell_type": "code",
      "metadata": {
        "id": "rK7YW2SQ04aA",
        "colab_type": "code",
        "colab": {
          "base_uri": "https://localhost:8080/",
          "height": 68
        },
        "outputId": "15169d04-0efc-4972-dcbb-8d4892304cb9"
      },
      "source": [
        "cdc['smoke100'].value_counts()"
      ],
      "execution_count": 3,
      "outputs": [
        {
          "output_type": "execute_result",
          "data": {
            "text/plain": [
              "0    10559\n",
              "1     9441\n",
              "Name: smoke100, dtype: int64"
            ]
          },
          "metadata": {
            "tags": []
          },
          "execution_count": 3
        }
      ]
    },
    {
      "cell_type": "markdown",
      "metadata": {
        "id": "ryNYE1U904aG",
        "colab_type": "text"
      },
      "source": [
        "or instead look at the relative frequency distribution by typing"
      ]
    },
    {
      "cell_type": "code",
      "metadata": {
        "id": "0ioD1dl604aH",
        "colab_type": "code",
        "colab": {
          "base_uri": "https://localhost:8080/",
          "height": 68
        },
        "outputId": "180ae591-da15-4ddb-955c-e3f0cd5c6260"
      },
      "source": [
        "cdc['smoke100'].value_counts(normalize = True)"
      ],
      "execution_count": 4,
      "outputs": [
        {
          "output_type": "execute_result",
          "data": {
            "text/plain": [
              "0    0.52795\n",
              "1    0.47205\n",
              "Name: smoke100, dtype: float64"
            ]
          },
          "metadata": {
            "tags": []
          },
          "execution_count": 4
        }
      ]
    },
    {
      "cell_type": "markdown",
      "metadata": {
        "id": "xa-3jXQG04aO",
        "colab_type": "text"
      },
      "source": [
        "Notice how Python automatically shows the relative frequency distributions by setting the parameter `normalize` as `True`.\n",
        "\n",
        "Now let's import `matplotlib` library to create plots. When running Python using the command line, the graphs are typically shown in a separate window. In a Jupyter Notebook, you can simply output the graphs within the notebook itself by running the `%matplotlib` inline magic command."
      ]
    },
    {
      "cell_type": "code",
      "metadata": {
        "id": "mRB1WWkK04aT",
        "colab_type": "code",
        "colab": {}
      },
      "source": [
        "import matplotlib.pyplot as plt\n",
        "%matplotlib inline "
      ],
      "execution_count": 0,
      "outputs": []
    },
    {
      "cell_type": "markdown",
      "metadata": {
        "id": "h2Z1Vn7c04aY",
        "colab_type": "text"
      },
      "source": [
        "You can change the format to svg for better quality figures. You can also try the retina format and see which one looks better on your computer's screen."
      ]
    },
    {
      "cell_type": "code",
      "metadata": {
        "id": "sZC37qVN04aa",
        "colab_type": "code",
        "colab": {}
      },
      "source": [
        "%config InlineBackend.figure_format = 'retina'"
      ],
      "execution_count": 0,
      "outputs": []
    },
    {
      "cell_type": "markdown",
      "metadata": {
        "id": "UfVAVre604af",
        "colab_type": "text"
      },
      "source": [
        "You can also change the default style of plots. Let's go for our favourite style, `ggplot` from R."
      ]
    },
    {
      "cell_type": "code",
      "metadata": {
        "id": "0ZUz5NtV04ah",
        "colab_type": "code",
        "colab": {}
      },
      "source": [
        "plt.style.use('ggplot')"
      ],
      "execution_count": 0,
      "outputs": []
    },
    {
      "cell_type": "markdown",
      "metadata": {
        "id": "n9AY6d3m04ak",
        "colab_type": "text"
      },
      "source": [
        "Let's also make the size of plots bigger."
      ]
    },
    {
      "cell_type": "code",
      "metadata": {
        "id": "18Fy-BmF04al",
        "colab_type": "code",
        "colab": {}
      },
      "source": [
        "plt.rcParams['figure.figsize'] = (10,5)"
      ],
      "execution_count": 0,
      "outputs": []
    },
    {
      "cell_type": "markdown",
      "metadata": {
        "id": "-CTs_WK104aq",
        "colab_type": "text"
      },
      "source": [
        "Now we can make a bar plot of the entries in the table by putting the table inside the barplot command."
      ]
    },
    {
      "cell_type": "code",
      "metadata": {
        "id": "JXUZ9tnf04au",
        "colab_type": "code",
        "colab": {
          "base_uri": "https://localhost:8080/",
          "height": 316
        },
        "outputId": "a94db512-02ff-468b-f804-235eeed05626"
      },
      "source": [
        "cdc['smoke100'].value_counts().plot(kind = 'bar')\n",
        "plt.show(); "
      ],
      "execution_count": 9,
      "outputs": [
        {
          "output_type": "display_data",
          "data": {
            "image/png": "[encoded data removed]",
            "text/plain": [
              "<Figure size 720x360 with 1 Axes>"
            ]
          },
          "metadata": {
            "tags": [],
            "image/png": {
              "width": 611,
              "height": 299
            }
          }
        }
      ]
    },
    {
      "cell_type": "markdown",
      "metadata": {
        "id": "eUxRLfZI04a1",
        "colab_type": "text"
      },
      "source": [
        "Notice what we’ve done here! We created the bar plot using `kind = bar`. You could also break this into two steps by typing the following:"
      ]
    },
    {
      "cell_type": "code",
      "metadata": {
        "id": "CaXLLkMj04a2",
        "colab_type": "code",
        "colab": {},
        "outputId": "397b8701-b506-4404-f486-cf509266b9ec"
      },
      "source": [
        "smoke = cdc['smoke100'].value_counts()\n",
        "smoke.plot(kind = 'bar')\n",
        "plt.show(); "
      ],
      "execution_count": 0,
      "outputs": [
        {
          "output_type": "display_data",
          "data": {
            "image/png": "[encoded data removed]",
            "text/plain": [
              "<Figure size 720x360 with 1 Axes>"
            ]
          },
          "metadata": {
            "tags": [],
            "image/png": {
              "height": 301,
              "width": 613
            }
          }
        }
      ]
    },
    {
      "cell_type": "markdown",
      "metadata": {
        "id": "UEueoh7m04a6",
        "colab_type": "text"
      },
      "source": [
        "Here, we’ve made a new object, called `smoke` (the contents of which we can see by typing `smoke` into the console) and then used it in as the input for `plot`."
      ]
    },
    {
      "cell_type": "markdown",
      "metadata": {
        "id": "no1gYlE204a7",
        "colab_type": "text"
      },
      "source": [
        "<div class = 'exercise'>\n",
        "<h4>Exercise 2</h4>\n",
        "Create a numerical summary for `height` and `age`, and compute the interquartile range for each. Compute the relative frequency distribution for `gender` and `exerany`. How many males are in the sample? What proportion of the sample reports being in excellent health?\n",
        "</div>"
      ]
    },
    {
      "cell_type": "markdown",
      "metadata": {
        "id": "D9hIqYyN04a8",
        "colab_type": "text"
      },
      "source": [
        "The `value_counts()` with `groupby` command can be used to tabulate any number of variables that you provide. For example, to examine which participants have smoked across each gender, we could use the following."
      ]
    },
    {
      "cell_type": "code",
      "metadata": {
        "id": "ko3tERl304a9",
        "colab_type": "code",
        "colab": {
          "base_uri": "https://localhost:8080/",
          "height": 142
        },
        "outputId": "b067892c-a430-447b-8e0f-b969e56586e9"
      },
      "source": [
        "cdc.groupby('gender')['smoke100'].value_counts().unstack() #  By doing unstack we are transforming the last level of the index to the columns. "
      ],
      "execution_count": 10,
      "outputs": [
        {
          "output_type": "execute_result",
          "data": {
            "text/html": [
              "<div>\n",
              "<style scoped>\n",
              "    .dataframe tbody tr th:only-of-type {\n",
              "        vertical-align: middle;\n",
              "    }\n",
              "\n",
              "    .dataframe tbody tr th {\n",
              "        vertical-align: top;\n",
              "    }\n",
              "\n",
              "    .dataframe thead th {\n",
              "        text-align: right;\n",
              "    }\n",
              "</style>\n",
              "<table border=\"1\" class=\"dataframe\">\n",
              "  <thead>\n",
              "    <tr style=\"text-align: right;\">\n",
              "      <th>smoke100</th>\n",
              "      <th>0</th>\n",
              "      <th>1</th>\n",
              "    </tr>\n",
              "    <tr>\n",
              "      <th>gender</th>\n",
              "      <th></th>\n",
              "      <th></th>\n",
              "    </tr>\n",
              "  </thead>\n",
              "  <tbody>\n",
              "    <tr>\n",
              "      <th>f</th>\n",
              "      <td>6012</td>\n",
              "      <td>4419</td>\n",
              "    </tr>\n",
              "    <tr>\n",
              "      <th>m</th>\n",
              "      <td>4547</td>\n",
              "      <td>5022</td>\n",
              "    </tr>\n",
              "  </tbody>\n",
              "</table>\n",
              "</div>"
            ],
            "text/plain": [
              "smoke100     0     1\n",
              "gender              \n",
              "f         6012  4419\n",
              "m         4547  5022"
            ]
          },
          "metadata": {
            "tags": []
          },
          "execution_count": 10
        }
      ]
    },
    {
      "cell_type": "markdown",
      "metadata": {
        "id": "q9flsiKN04bC",
        "colab_type": "text"
      },
      "source": [
        "Here, we see column labels of 0 and 1. Recall that 1 indicates a respondent has smoked at least 100 cigarettes. The rows refer to gender. To create a mosaic plot of this table, we would enter the following command."
      ]
    },
    {
      "cell_type": "code",
      "metadata": {
        "id": "vXFuW8b-04bE",
        "colab_type": "code",
        "colab": {
          "base_uri": "https://localhost:8080/",
          "height": 323
        },
        "outputId": "0dffc65a-30e5-4c7b-c8cb-aeb14daf6e72"
      },
      "source": [
        "from statsmodels.graphics.mosaicplot import mosaic\n",
        "mosaic(cdc, ['gender', 'smoke100'])\n",
        "plt.show();"
      ],
      "execution_count": 11,
      "outputs": [
        {
          "output_type": "display_data",
          "data": {
            "image/png": "[encoded data removed]",
            "text/plain": [
              "<Figure size 720x360 with 3 Axes>"
            ]
          },
          "metadata": {
            "tags": [],
            "image/png": {
              "width": 589,
              "height": 306
            }
          }
        }
      ]
    },
    {
      "cell_type": "markdown",
      "metadata": {
        "id": "3NUG1qO204bJ",
        "colab_type": "text"
      },
      "source": [
        "<div class = 'exercise'>\n",
        "<h4>Exercise 3</h4>\n",
        "What does the mosaic plot reveal about smoking habits and gender?\n",
        "</div>"
      ]
    },
    {
      "cell_type": "markdown",
      "metadata": {
        "id": "VXjyZH6V04bK",
        "colab_type": "text"
      },
      "source": [
        "## Interlude: How Python thinks about data"
      ]
    },
    {
      "cell_type": "markdown",
      "metadata": {
        "id": "7BFneb0U04bL",
        "colab_type": "text"
      },
      "source": [
        "DataFrames are like a type of spreadsheet. Each row is a different observation (a different respondent) and each column is a different variable (the first is `genhlth`, the second `exerany` and so on). We can see the size of the DataFrame by typing"
      ]
    },
    {
      "cell_type": "code",
      "metadata": {
        "id": "5d3a7u8k04bM",
        "colab_type": "code",
        "colab": {
          "base_uri": "https://localhost:8080/",
          "height": 34
        },
        "outputId": "a6d3a795-38ad-4aef-90ad-830db0fed57d"
      },
      "source": [
        "cdc.shape"
      ],
      "execution_count": 14,
      "outputs": [
        {
          "output_type": "execute_result",
          "data": {
            "text/plain": [
              "(20000, 9)"
            ]
          },
          "metadata": {
            "tags": []
          },
          "execution_count": 14
        }
      ]
    },
    {
      "cell_type": "markdown",
      "metadata": {
        "id": "u9TqRuz904bP",
        "colab_type": "text"
      },
      "source": [
        "which will return the number of rows and columns. Now, if we want to access a subset of the full DataFrame, we can use row-and-column notation. For example, to see the sixth variable of the 567th respondent, use the format"
      ]
    },
    {
      "cell_type": "code",
      "metadata": {
        "id": "6YDCTx8l04bQ",
        "colab_type": "code",
        "colab": {
          "base_uri": "https://localhost:8080/",
          "height": 34
        },
        "outputId": "6dd0c4c1-c77c-4eaa-db52-bba8efdaac72"
      },
      "source": [
        "cdc.iloc[566,5] # This is the equivalent of cdc[567,6] in R."
      ],
      "execution_count": 13,
      "outputs": [
        {
          "output_type": "execute_result",
          "data": {
            "text/plain": [
              "160"
            ]
          },
          "metadata": {
            "tags": []
          },
          "execution_count": 13
        }
      ]
    },
    {
      "cell_type": "markdown",
      "metadata": {
        "id": "9gAjbAY104bU",
        "colab_type": "text"
      },
      "source": [
        "which gives us the weight of the 567th person (or observation). Remember that, in Python indexing starts at 0, so the first element of a list or DataFrame is selected by the 0-th index.\n",
        "\n",
        "To see the weights for the first 10 respondents we can type"
      ]
    },
    {
      "cell_type": "code",
      "metadata": {
        "id": "QfzUD8GP04bU",
        "colab_type": "code",
        "colab": {},
        "outputId": "fc97ea7d-c8fa-49ca-b849-cebc8fd5a61d"
      },
      "source": [
        "cdc.iloc[0:10, 5] # Keep in mind that the ending index is excluded in Python."
      ],
      "execution_count": 0,
      "outputs": [
        {
          "output_type": "execute_result",
          "data": {
            "text/plain": [
              "0    175\n",
              "1    125\n",
              "2    105\n",
              "3    132\n",
              "4    150\n",
              "5    114\n",
              "6    194\n",
              "7    170\n",
              "8    150\n",
              "9    180\n",
              "Name: weight, dtype: int64"
            ]
          },
          "metadata": {
            "tags": []
          },
          "execution_count": 21
        }
      ]
    },
    {
      "cell_type": "markdown",
      "metadata": {
        "id": "S0kXgfJ104bX",
        "colab_type": "text"
      },
      "source": [
        "Finally, if we want all of the data for the first 10 respondents, type"
      ]
    },
    {
      "cell_type": "code",
      "metadata": {
        "id": "CG05cnI704bY",
        "colab_type": "code",
        "colab": {},
        "outputId": "fd3b611a-bc8b-401f-caf3-6a6960bb5825"
      },
      "source": [
        "cdc.iloc[0:10,]"
      ],
      "execution_count": 0,
      "outputs": [
        {
          "output_type": "execute_result",
          "data": {
            "text/html": [
              "<div>\n",
              "<style scoped>\n",
              "    .dataframe tbody tr th:only-of-type {\n",
              "        vertical-align: middle;\n",
              "    }\n",
              "\n",
              "    .dataframe tbody tr th {\n",
              "        vertical-align: top;\n",
              "    }\n",
              "\n",
              "    .dataframe thead th {\n",
              "        text-align: right;\n",
              "    }\n",
              "</style>\n",
              "<table border=\"1\" class=\"dataframe\">\n",
              "  <thead>\n",
              "    <tr style=\"text-align: right;\">\n",
              "      <th></th>\n",
              "      <th>genhlth</th>\n",
              "      <th>exerany</th>\n",
              "      <th>hlthplan</th>\n",
              "      <th>smoke100</th>\n",
              "      <th>height</th>\n",
              "      <th>weight</th>\n",
              "      <th>wtdesire</th>\n",
              "      <th>age</th>\n",
              "      <th>gender</th>\n",
              "    </tr>\n",
              "  </thead>\n",
              "  <tbody>\n",
              "    <tr>\n",
              "      <th>0</th>\n",
              "      <td>good</td>\n",
              "      <td>0</td>\n",
              "      <td>1</td>\n",
              "      <td>0</td>\n",
              "      <td>70</td>\n",
              "      <td>175</td>\n",
              "      <td>175</td>\n",
              "      <td>77</td>\n",
              "      <td>m</td>\n",
              "    </tr>\n",
              "    <tr>\n",
              "      <th>1</th>\n",
              "      <td>good</td>\n",
              "      <td>0</td>\n",
              "      <td>1</td>\n",
              "      <td>1</td>\n",
              "      <td>64</td>\n",
              "      <td>125</td>\n",
              "      <td>115</td>\n",
              "      <td>33</td>\n",
              "      <td>f</td>\n",
              "    </tr>\n",
              "    <tr>\n",
              "      <th>2</th>\n",
              "      <td>good</td>\n",
              "      <td>1</td>\n",
              "      <td>1</td>\n",
              "      <td>1</td>\n",
              "      <td>60</td>\n",
              "      <td>105</td>\n",
              "      <td>105</td>\n",
              "      <td>49</td>\n",
              "      <td>f</td>\n",
              "    </tr>\n",
              "    <tr>\n",
              "      <th>3</th>\n",
              "      <td>good</td>\n",
              "      <td>1</td>\n",
              "      <td>1</td>\n",
              "      <td>0</td>\n",
              "      <td>66</td>\n",
              "      <td>132</td>\n",
              "      <td>124</td>\n",
              "      <td>42</td>\n",
              "      <td>f</td>\n",
              "    </tr>\n",
              "    <tr>\n",
              "      <th>4</th>\n",
              "      <td>very good</td>\n",
              "      <td>0</td>\n",
              "      <td>1</td>\n",
              "      <td>0</td>\n",
              "      <td>61</td>\n",
              "      <td>150</td>\n",
              "      <td>130</td>\n",
              "      <td>55</td>\n",
              "      <td>f</td>\n",
              "    </tr>\n",
              "    <tr>\n",
              "      <th>5</th>\n",
              "      <td>very good</td>\n",
              "      <td>1</td>\n",
              "      <td>1</td>\n",
              "      <td>0</td>\n",
              "      <td>64</td>\n",
              "      <td>114</td>\n",
              "      <td>114</td>\n",
              "      <td>55</td>\n",
              "      <td>f</td>\n",
              "    </tr>\n",
              "    <tr>\n",
              "      <th>6</th>\n",
              "      <td>very good</td>\n",
              "      <td>1</td>\n",
              "      <td>1</td>\n",
              "      <td>0</td>\n",
              "      <td>71</td>\n",
              "      <td>194</td>\n",
              "      <td>185</td>\n",
              "      <td>31</td>\n",
              "      <td>m</td>\n",
              "    </tr>\n",
              "    <tr>\n",
              "      <th>7</th>\n",
              "      <td>very good</td>\n",
              "      <td>0</td>\n",
              "      <td>1</td>\n",
              "      <td>0</td>\n",
              "      <td>67</td>\n",
              "      <td>170</td>\n",
              "      <td>160</td>\n",
              "      <td>45</td>\n",
              "      <td>m</td>\n",
              "    </tr>\n",
              "    <tr>\n",
              "      <th>8</th>\n",
              "      <td>good</td>\n",
              "      <td>0</td>\n",
              "      <td>1</td>\n",
              "      <td>1</td>\n",
              "      <td>65</td>\n",
              "      <td>150</td>\n",
              "      <td>130</td>\n",
              "      <td>27</td>\n",
              "      <td>f</td>\n",
              "    </tr>\n",
              "    <tr>\n",
              "      <th>9</th>\n",
              "      <td>good</td>\n",
              "      <td>1</td>\n",
              "      <td>1</td>\n",
              "      <td>0</td>\n",
              "      <td>70</td>\n",
              "      <td>180</td>\n",
              "      <td>170</td>\n",
              "      <td>44</td>\n",
              "      <td>m</td>\n",
              "    </tr>\n",
              "  </tbody>\n",
              "</table>\n",
              "</div>"
            ],
            "text/plain": [
              "     genhlth  exerany  hlthplan  smoke100  height  weight  wtdesire  age  \\\n",
              "0       good        0         1         0      70     175       175   77   \n",
              "1       good        0         1         1      64     125       115   33   \n",
              "2       good        1         1         1      60     105       105   49   \n",
              "3       good        1         1         0      66     132       124   42   \n",
              "4  very good        0         1         0      61     150       130   55   \n",
              "5  very good        1         1         0      64     114       114   55   \n",
              "6  very good        1         1         0      71     194       185   31   \n",
              "7  very good        0         1         0      67     170       160   45   \n",
              "8       good        0         1         1      65     150       130   27   \n",
              "9       good        1         1         0      70     180       170   44   \n",
              "\n",
              "  gender  \n",
              "0      m  \n",
              "1      f  \n",
              "2      f  \n",
              "3      f  \n",
              "4      f  \n",
              "5      f  \n",
              "6      m  \n",
              "7      m  \n",
              "8      f  \n",
              "9      m  "
            ]
          },
          "metadata": {
            "tags": []
          },
          "execution_count": 22
        }
      ]
    },
    {
      "cell_type": "markdown",
      "metadata": {
        "id": "S4I6A7mu04bb",
        "colab_type": "text"
      },
      "source": [
        "By leaving out an index or a range (we didn’t type anything between the comma and the square bracket), we get all the columns. As a rule, we omit the column number to see all columns in a DataFrame. To access all the observations, just leave a colon inside of the bracket. Try the following to see the weights for all 20,000 respondents fly by on your screen"
      ]
    },
    {
      "cell_type": "code",
      "metadata": {
        "id": "nfXm_Uee04bc",
        "colab_type": "code",
        "colab": {
          "base_uri": "https://localhost:8080/",
          "height": 221
        },
        "outputId": "fba451b2-25e0-4d5a-ebbe-956e8d7525be"
      },
      "source": [
        "cdc.iloc[:, 5]"
      ],
      "execution_count": 15,
      "outputs": [
        {
          "output_type": "execute_result",
          "data": {
            "text/plain": [
              "0        175\n",
              "1        125\n",
              "2        105\n",
              "3        132\n",
              "4        150\n",
              "        ... \n",
              "19995    215\n",
              "19996    200\n",
              "19997    216\n",
              "19998    165\n",
              "19999    170\n",
              "Name: weight, Length: 20000, dtype: int64"
            ]
          },
          "metadata": {
            "tags": []
          },
          "execution_count": 15
        }
      ]
    },
    {
      "cell_type": "markdown",
      "metadata": {
        "id": "AzsA8ZXf04bf",
        "colab_type": "text"
      },
      "source": [
        "Recall that column 6 represents respondents’ weight, so the command above reported all of the weights in the data set. An alternative method to access the weight data is by referring to the name. Previously, we typed `list(cdc)` to see all the variables contained in the cdc data set. We can use any of the variable names to select items in our data set."
      ]
    },
    {
      "cell_type": "code",
      "metadata": {
        "id": "bk13S5Sf04bg",
        "colab_type": "code",
        "colab": {},
        "outputId": "d33ce67f-891e-42e1-9a10-eb0d9b3d248a"
      },
      "source": [
        "cdc['weight']"
      ],
      "execution_count": 0,
      "outputs": [
        {
          "output_type": "execute_result",
          "data": {
            "text/plain": [
              "0        175\n",
              "1        125\n",
              "2        105\n",
              "3        132\n",
              "4        150\n",
              "5        114\n",
              "6        194\n",
              "7        170\n",
              "8        150\n",
              "9        180\n",
              "10       186\n",
              "11       168\n",
              "12       185\n",
              "13       170\n",
              "14       170\n",
              "15       185\n",
              "16       156\n",
              "17       185\n",
              "18       200\n",
              "19       125\n",
              "20       200\n",
              "21       160\n",
              "22       160\n",
              "23       165\n",
              "24       105\n",
              "25       190\n",
              "26       190\n",
              "27       160\n",
              "28       115\n",
              "29       185\n",
              "        ... \n",
              "19970    168\n",
              "19971     85\n",
              "19972    145\n",
              "19973    110\n",
              "19974    156\n",
              "19975    230\n",
              "19976    198\n",
              "19977    180\n",
              "19978    135\n",
              "19979    265\n",
              "19980    195\n",
              "19981    210\n",
              "19982    171\n",
              "19983    190\n",
              "19984    180\n",
              "19985    120\n",
              "19986    140\n",
              "19987    200\n",
              "19988    230\n",
              "19989    230\n",
              "19990    195\n",
              "19991    210\n",
              "19992    180\n",
              "19993    165\n",
              "19994    224\n",
              "19995    215\n",
              "19996    200\n",
              "19997    216\n",
              "19998    165\n",
              "19999    170\n",
              "Name: weight, Length: 20000, dtype: int64"
            ]
          },
          "metadata": {
            "tags": []
          },
          "execution_count": 24
        }
      ]
    },
    {
      "cell_type": "markdown",
      "metadata": {
        "id": "zNXk5dnQ04bk",
        "colab_type": "text"
      },
      "source": [
        "This tells Python to look in DataFrame cdc for the column called weight. Since that’s a single vector, we can subset it by just adding another single index inside square brackets. We see the weight for the 567th respondent by typing"
      ]
    },
    {
      "cell_type": "code",
      "metadata": {
        "id": "2f6Qrx2204bl",
        "colab_type": "code",
        "colab": {},
        "outputId": "c392fcdc-7f50-4010-c240-96c81400e3ae"
      },
      "source": [
        "cdc['weight'][566]"
      ],
      "execution_count": 0,
      "outputs": [
        {
          "output_type": "execute_result",
          "data": {
            "text/plain": [
              "160"
            ]
          },
          "metadata": {
            "tags": []
          },
          "execution_count": 25
        }
      ]
    },
    {
      "cell_type": "markdown",
      "metadata": {
        "id": "BgRTU9M804bo",
        "colab_type": "text"
      },
      "source": [
        "Similarly, for just the first 10 respondents"
      ]
    },
    {
      "cell_type": "code",
      "metadata": {
        "id": "csRHjrYF04bp",
        "colab_type": "code",
        "colab": {},
        "outputId": "ec29b231-835a-473a-fca9-56c042d22da7"
      },
      "source": [
        "cdc['weight'][0:10]"
      ],
      "execution_count": 0,
      "outputs": [
        {
          "output_type": "execute_result",
          "data": {
            "text/plain": [
              "0    175\n",
              "1    125\n",
              "2    105\n",
              "3    132\n",
              "4    150\n",
              "5    114\n",
              "6    194\n",
              "7    170\n",
              "8    150\n",
              "9    180\n",
              "Name: weight, dtype: int64"
            ]
          },
          "metadata": {
            "tags": []
          },
          "execution_count": 26
        }
      ]
    },
    {
      "cell_type": "markdown",
      "metadata": {
        "id": "byRyrSZq04br",
        "colab_type": "text"
      },
      "source": [
        "The command above returns the same result as the `cdc.iloc[0:10, 5]` command."
      ]
    },
    {
      "cell_type": "markdown",
      "metadata": {
        "id": "HmqIAcHy04bs",
        "colab_type": "text"
      },
      "source": [
        "## A little more on subsetting"
      ]
    },
    {
      "cell_type": "markdown",
      "metadata": {
        "id": "GcrLnVK_04bt",
        "colab_type": "text"
      },
      "source": [
        "It’s often useful to extract all individuals (cases) in a data set that have specific characteristics. We accomplish this through conditioning commands. First, consider expressions like"
      ]
    },
    {
      "cell_type": "code",
      "metadata": {
        "id": "LMgeE3C704bt",
        "colab_type": "code",
        "colab": {},
        "outputId": "49708161-12b5-403c-d7ff-770d9564fdbc"
      },
      "source": [
        "cdc['gender'] == 'm'"
      ],
      "execution_count": 0,
      "outputs": [
        {
          "output_type": "execute_result",
          "data": {
            "text/plain": [
              "0         True\n",
              "1        False\n",
              "2        False\n",
              "3        False\n",
              "4        False\n",
              "5        False\n",
              "6         True\n",
              "7         True\n",
              "8        False\n",
              "9         True\n",
              "10        True\n",
              "11        True\n",
              "12        True\n",
              "13        True\n",
              "14        True\n",
              "15        True\n",
              "16        True\n",
              "17        True\n",
              "18        True\n",
              "19       False\n",
              "20       False\n",
              "21       False\n",
              "22        True\n",
              "23        True\n",
              "24       False\n",
              "25       False\n",
              "26       False\n",
              "27       False\n",
              "28       False\n",
              "29        True\n",
              "         ...  \n",
              "19970     True\n",
              "19971    False\n",
              "19972    False\n",
              "19973    False\n",
              "19974    False\n",
              "19975     True\n",
              "19976    False\n",
              "19977    False\n",
              "19978     True\n",
              "19979     True\n",
              "19980     True\n",
              "19981     True\n",
              "19982    False\n",
              "19983     True\n",
              "19984     True\n",
              "19985    False\n",
              "19986    False\n",
              "19987     True\n",
              "19988     True\n",
              "19989     True\n",
              "19990     True\n",
              "19991     True\n",
              "19992     True\n",
              "19993    False\n",
              "19994     True\n",
              "19995    False\n",
              "19996     True\n",
              "19997    False\n",
              "19998    False\n",
              "19999     True\n",
              "Name: gender, Length: 20000, dtype: bool"
            ]
          },
          "metadata": {
            "tags": []
          },
          "execution_count": 27
        }
      ]
    },
    {
      "cell_type": "markdown",
      "metadata": {
        "id": "uiqYzN7C04bw",
        "colab_type": "text"
      },
      "source": [
        "or"
      ]
    },
    {
      "cell_type": "code",
      "metadata": {
        "id": "bCJSAetA04by",
        "colab_type": "code",
        "colab": {},
        "outputId": "b85a6434-d57d-4513-d3b1-d4b36088cbe9"
      },
      "source": [
        "cdc['age'] > 30"
      ],
      "execution_count": 0,
      "outputs": [
        {
          "output_type": "execute_result",
          "data": {
            "text/plain": [
              "0         True\n",
              "1         True\n",
              "2         True\n",
              "3         True\n",
              "4         True\n",
              "5         True\n",
              "6         True\n",
              "7         True\n",
              "8        False\n",
              "9         True\n",
              "10        True\n",
              "11        True\n",
              "12       False\n",
              "13        True\n",
              "14       False\n",
              "15        True\n",
              "16        True\n",
              "17        True\n",
              "18        True\n",
              "19        True\n",
              "20        True\n",
              "21        True\n",
              "22        True\n",
              "23       False\n",
              "24       False\n",
              "25        True\n",
              "26        True\n",
              "27        True\n",
              "28        True\n",
              "29        True\n",
              "         ...  \n",
              "19970    False\n",
              "19971     True\n",
              "19972     True\n",
              "19973     True\n",
              "19974     True\n",
              "19975     True\n",
              "19976     True\n",
              "19977     True\n",
              "19978     True\n",
              "19979    False\n",
              "19980     True\n",
              "19981     True\n",
              "19982     True\n",
              "19983     True\n",
              "19984     True\n",
              "19985     True\n",
              "19986     True\n",
              "19987     True\n",
              "19988     True\n",
              "19989     True\n",
              "19990     True\n",
              "19991     True\n",
              "19992     True\n",
              "19993     True\n",
              "19994     True\n",
              "19995    False\n",
              "19996     True\n",
              "19997     True\n",
              "19998     True\n",
              "19999     True\n",
              "Name: age, Length: 20000, dtype: bool"
            ]
          },
          "metadata": {
            "tags": []
          },
          "execution_count": 28
        }
      ]
    },
    {
      "cell_type": "markdown",
      "metadata": {
        "id": "4WZMmepn04b2",
        "colab_type": "text"
      },
      "source": [
        "These commands produce a series of `TRUE` and `FALSE` values. There is one value for each respondent, where `TRUE` indicates that the person was male (via the first command) or older than 30 (second command).\n",
        "\n",
        "Suppose we want to extract just the data for the men in the sample, or just for those over 30. For example, the command"
      ]
    },
    {
      "cell_type": "code",
      "metadata": {
        "id": "RfoQ993s04b3",
        "colab_type": "code",
        "colab": {}
      },
      "source": [
        "mdata = cdc[cdc['gender'] == 'm']"
      ],
      "execution_count": 0,
      "outputs": []
    },
    {
      "cell_type": "markdown",
      "metadata": {
        "id": "77ZfMfbJ04b5",
        "colab_type": "text"
      },
      "source": [
        "will create a new data set called `mdata` that contains only the men from the `cdc` data set. In addition to finding it in your workspace alongside its dimensions, you can take a peek at the first several rows as usual"
      ]
    },
    {
      "cell_type": "code",
      "metadata": {
        "id": "_QiW825w04b8",
        "colab_type": "code",
        "colab": {},
        "outputId": "eb632c2e-e2da-435d-e278-516551c1c7f0"
      },
      "source": [
        "mdata.head()"
      ],
      "execution_count": 0,
      "outputs": [
        {
          "output_type": "execute_result",
          "data": {
            "text/html": [
              "<div>\n",
              "<style scoped>\n",
              "    .dataframe tbody tr th:only-of-type {\n",
              "        vertical-align: middle;\n",
              "    }\n",
              "\n",
              "    .dataframe tbody tr th {\n",
              "        vertical-align: top;\n",
              "    }\n",
              "\n",
              "    .dataframe thead th {\n",
              "        text-align: right;\n",
              "    }\n",
              "</style>\n",
              "<table border=\"1\" class=\"dataframe\">\n",
              "  <thead>\n",
              "    <tr style=\"text-align: right;\">\n",
              "      <th></th>\n",
              "      <th>genhlth</th>\n",
              "      <th>exerany</th>\n",
              "      <th>hlthplan</th>\n",
              "      <th>smoke100</th>\n",
              "      <th>height</th>\n",
              "      <th>weight</th>\n",
              "      <th>wtdesire</th>\n",
              "      <th>age</th>\n",
              "      <th>gender</th>\n",
              "    </tr>\n",
              "  </thead>\n",
              "  <tbody>\n",
              "    <tr>\n",
              "      <th>0</th>\n",
              "      <td>good</td>\n",
              "      <td>0</td>\n",
              "      <td>1</td>\n",
              "      <td>0</td>\n",
              "      <td>70</td>\n",
              "      <td>175</td>\n",
              "      <td>175</td>\n",
              "      <td>77</td>\n",
              "      <td>m</td>\n",
              "    </tr>\n",
              "    <tr>\n",
              "      <th>6</th>\n",
              "      <td>very good</td>\n",
              "      <td>1</td>\n",
              "      <td>1</td>\n",
              "      <td>0</td>\n",
              "      <td>71</td>\n",
              "      <td>194</td>\n",
              "      <td>185</td>\n",
              "      <td>31</td>\n",
              "      <td>m</td>\n",
              "    </tr>\n",
              "    <tr>\n",
              "      <th>7</th>\n",
              "      <td>very good</td>\n",
              "      <td>0</td>\n",
              "      <td>1</td>\n",
              "      <td>0</td>\n",
              "      <td>67</td>\n",
              "      <td>170</td>\n",
              "      <td>160</td>\n",
              "      <td>45</td>\n",
              "      <td>m</td>\n",
              "    </tr>\n",
              "    <tr>\n",
              "      <th>9</th>\n",
              "      <td>good</td>\n",
              "      <td>1</td>\n",
              "      <td>1</td>\n",
              "      <td>0</td>\n",
              "      <td>70</td>\n",
              "      <td>180</td>\n",
              "      <td>170</td>\n",
              "      <td>44</td>\n",
              "      <td>m</td>\n",
              "    </tr>\n",
              "    <tr>\n",
              "      <th>10</th>\n",
              "      <td>excellent</td>\n",
              "      <td>1</td>\n",
              "      <td>1</td>\n",
              "      <td>1</td>\n",
              "      <td>69</td>\n",
              "      <td>186</td>\n",
              "      <td>175</td>\n",
              "      <td>46</td>\n",
              "      <td>m</td>\n",
              "    </tr>\n",
              "  </tbody>\n",
              "</table>\n",
              "</div>"
            ],
            "text/plain": [
              "      genhlth  exerany  hlthplan  smoke100  height  weight  wtdesire  age  \\\n",
              "0        good        0         1         0      70     175       175   77   \n",
              "6   very good        1         1         0      71     194       185   31   \n",
              "7   very good        0         1         0      67     170       160   45   \n",
              "9        good        1         1         0      70     180       170   44   \n",
              "10  excellent        1         1         1      69     186       175   46   \n",
              "\n",
              "   gender  \n",
              "0       m  \n",
              "6       m  \n",
              "7       m  \n",
              "9       m  \n",
              "10      m  "
            ]
          },
          "metadata": {
            "tags": []
          },
          "execution_count": 30
        }
      ]
    },
    {
      "cell_type": "markdown",
      "metadata": {
        "id": "HT2d2nsv04cD",
        "colab_type": "text"
      },
      "source": [
        "This new data set contains all the same variables but just under half the rows. It is also possible to tell R to keep only specific variables, which is a topic we’ll discuss in a future lab. For now, the important thing is that we can carve up the data based on values of one or more variables.\n",
        "\n",
        "As an aside, you can use several of these conditions together with `&` and `|`. The `&` is read “and” so that"
      ]
    },
    {
      "cell_type": "code",
      "metadata": {
        "id": "ao94hGeQ04cE",
        "colab_type": "code",
        "colab": {},
        "outputId": "35311e83-430b-42c8-d89f-bc58fd8a1231"
      },
      "source": [
        "m_and_over30 = cdc[(cdc['gender'] == 'm') & (cdc['age'] > 30)]\n",
        "m_and_over30.head()"
      ],
      "execution_count": 0,
      "outputs": [
        {
          "output_type": "execute_result",
          "data": {
            "text/html": [
              "<div>\n",
              "<style scoped>\n",
              "    .dataframe tbody tr th:only-of-type {\n",
              "        vertical-align: middle;\n",
              "    }\n",
              "\n",
              "    .dataframe tbody tr th {\n",
              "        vertical-align: top;\n",
              "    }\n",
              "\n",
              "    .dataframe thead th {\n",
              "        text-align: right;\n",
              "    }\n",
              "</style>\n",
              "<table border=\"1\" class=\"dataframe\">\n",
              "  <thead>\n",
              "    <tr style=\"text-align: right;\">\n",
              "      <th></th>\n",
              "      <th>genhlth</th>\n",
              "      <th>exerany</th>\n",
              "      <th>hlthplan</th>\n",
              "      <th>smoke100</th>\n",
              "      <th>height</th>\n",
              "      <th>weight</th>\n",
              "      <th>wtdesire</th>\n",
              "      <th>age</th>\n",
              "      <th>gender</th>\n",
              "    </tr>\n",
              "  </thead>\n",
              "  <tbody>\n",
              "    <tr>\n",
              "      <th>0</th>\n",
              "      <td>good</td>\n",
              "      <td>0</td>\n",
              "      <td>1</td>\n",
              "      <td>0</td>\n",
              "      <td>70</td>\n",
              "      <td>175</td>\n",
              "      <td>175</td>\n",
              "      <td>77</td>\n",
              "      <td>m</td>\n",
              "    </tr>\n",
              "    <tr>\n",
              "      <th>6</th>\n",
              "      <td>very good</td>\n",
              "      <td>1</td>\n",
              "      <td>1</td>\n",
              "      <td>0</td>\n",
              "      <td>71</td>\n",
              "      <td>194</td>\n",
              "      <td>185</td>\n",
              "      <td>31</td>\n",
              "      <td>m</td>\n",
              "    </tr>\n",
              "    <tr>\n",
              "      <th>7</th>\n",
              "      <td>very good</td>\n",
              "      <td>0</td>\n",
              "      <td>1</td>\n",
              "      <td>0</td>\n",
              "      <td>67</td>\n",
              "      <td>170</td>\n",
              "      <td>160</td>\n",
              "      <td>45</td>\n",
              "      <td>m</td>\n",
              "    </tr>\n",
              "    <tr>\n",
              "      <th>9</th>\n",
              "      <td>good</td>\n",
              "      <td>1</td>\n",
              "      <td>1</td>\n",
              "      <td>0</td>\n",
              "      <td>70</td>\n",
              "      <td>180</td>\n",
              "      <td>170</td>\n",
              "      <td>44</td>\n",
              "      <td>m</td>\n",
              "    </tr>\n",
              "    <tr>\n",
              "      <th>10</th>\n",
              "      <td>excellent</td>\n",
              "      <td>1</td>\n",
              "      <td>1</td>\n",
              "      <td>1</td>\n",
              "      <td>69</td>\n",
              "      <td>186</td>\n",
              "      <td>175</td>\n",
              "      <td>46</td>\n",
              "      <td>m</td>\n",
              "    </tr>\n",
              "  </tbody>\n",
              "</table>\n",
              "</div>"
            ],
            "text/plain": [
              "      genhlth  exerany  hlthplan  smoke100  height  weight  wtdesire  age  \\\n",
              "0        good        0         1         0      70     175       175   77   \n",
              "6   very good        1         1         0      71     194       185   31   \n",
              "7   very good        0         1         0      67     170       160   45   \n",
              "9        good        1         1         0      70     180       170   44   \n",
              "10  excellent        1         1         1      69     186       175   46   \n",
              "\n",
              "   gender  \n",
              "0       m  \n",
              "6       m  \n",
              "7       m  \n",
              "9       m  \n",
              "10      m  "
            ]
          },
          "metadata": {
            "tags": []
          },
          "execution_count": 31
        }
      ]
    },
    {
      "cell_type": "markdown",
      "metadata": {
        "id": "1aRb4DFX04cJ",
        "colab_type": "text"
      },
      "source": [
        "will give you the data for men over the age of 30. The `|` character is read “or” so that"
      ]
    },
    {
      "cell_type": "code",
      "metadata": {
        "id": "HDkr7_7304cK",
        "colab_type": "code",
        "colab": {},
        "outputId": "b369d988-b1e2-4c7a-ff89-ba9726a0e2a8"
      },
      "source": [
        "m_and_over30 = cdc[(cdc['gender'] == 'm') | (cdc['age'] > 30)]\n",
        "m_and_over30.head()"
      ],
      "execution_count": 0,
      "outputs": [
        {
          "output_type": "execute_result",
          "data": {
            "text/html": [
              "<div>\n",
              "<style scoped>\n",
              "    .dataframe tbody tr th:only-of-type {\n",
              "        vertical-align: middle;\n",
              "    }\n",
              "\n",
              "    .dataframe tbody tr th {\n",
              "        vertical-align: top;\n",
              "    }\n",
              "\n",
              "    .dataframe thead th {\n",
              "        text-align: right;\n",
              "    }\n",
              "</style>\n",
              "<table border=\"1\" class=\"dataframe\">\n",
              "  <thead>\n",
              "    <tr style=\"text-align: right;\">\n",
              "      <th></th>\n",
              "      <th>genhlth</th>\n",
              "      <th>exerany</th>\n",
              "      <th>hlthplan</th>\n",
              "      <th>smoke100</th>\n",
              "      <th>height</th>\n",
              "      <th>weight</th>\n",
              "      <th>wtdesire</th>\n",
              "      <th>age</th>\n",
              "      <th>gender</th>\n",
              "    </tr>\n",
              "  </thead>\n",
              "  <tbody>\n",
              "    <tr>\n",
              "      <th>0</th>\n",
              "      <td>good</td>\n",
              "      <td>0</td>\n",
              "      <td>1</td>\n",
              "      <td>0</td>\n",
              "      <td>70</td>\n",
              "      <td>175</td>\n",
              "      <td>175</td>\n",
              "      <td>77</td>\n",
              "      <td>m</td>\n",
              "    </tr>\n",
              "    <tr>\n",
              "      <th>1</th>\n",
              "      <td>good</td>\n",
              "      <td>0</td>\n",
              "      <td>1</td>\n",
              "      <td>1</td>\n",
              "      <td>64</td>\n",
              "      <td>125</td>\n",
              "      <td>115</td>\n",
              "      <td>33</td>\n",
              "      <td>f</td>\n",
              "    </tr>\n",
              "    <tr>\n",
              "      <th>2</th>\n",
              "      <td>good</td>\n",
              "      <td>1</td>\n",
              "      <td>1</td>\n",
              "      <td>1</td>\n",
              "      <td>60</td>\n",
              "      <td>105</td>\n",
              "      <td>105</td>\n",
              "      <td>49</td>\n",
              "      <td>f</td>\n",
              "    </tr>\n",
              "    <tr>\n",
              "      <th>3</th>\n",
              "      <td>good</td>\n",
              "      <td>1</td>\n",
              "      <td>1</td>\n",
              "      <td>0</td>\n",
              "      <td>66</td>\n",
              "      <td>132</td>\n",
              "      <td>124</td>\n",
              "      <td>42</td>\n",
              "      <td>f</td>\n",
              "    </tr>\n",
              "    <tr>\n",
              "      <th>4</th>\n",
              "      <td>very good</td>\n",
              "      <td>0</td>\n",
              "      <td>1</td>\n",
              "      <td>0</td>\n",
              "      <td>61</td>\n",
              "      <td>150</td>\n",
              "      <td>130</td>\n",
              "      <td>55</td>\n",
              "      <td>f</td>\n",
              "    </tr>\n",
              "  </tbody>\n",
              "</table>\n",
              "</div>"
            ],
            "text/plain": [
              "     genhlth  exerany  hlthplan  smoke100  height  weight  wtdesire  age  \\\n",
              "0       good        0         1         0      70     175       175   77   \n",
              "1       good        0         1         1      64     125       115   33   \n",
              "2       good        1         1         1      60     105       105   49   \n",
              "3       good        1         1         0      66     132       124   42   \n",
              "4  very good        0         1         0      61     150       130   55   \n",
              "\n",
              "  gender  \n",
              "0      m  \n",
              "1      f  \n",
              "2      f  \n",
              "3      f  \n",
              "4      f  "
            ]
          },
          "metadata": {
            "tags": []
          },
          "execution_count": 32
        }
      ]
    },
    {
      "cell_type": "markdown",
      "metadata": {
        "id": "Okeowybe04ch",
        "colab_type": "text"
      },
      "source": [
        "will take people who are men or over the age of 30 (why that’s an interesting group is hard to say, but right now the mechanics of this are the important thing). In principle, you may use as many “and” and “or” clauses as you like when forming a subset."
      ]
    },
    {
      "cell_type": "markdown",
      "metadata": {
        "id": "I7yxeo9U04ch",
        "colab_type": "text"
      },
      "source": [
        "<div class = 'exercise'>\n",
        "<h4>Exercise 4</h4>\n",
        "Create a new object called <code>under23_and_smoke</code> that contains all observations of respondents under the age of 23 that have smoked 100 cigarettes in their lifetime. Write the command you used to create the new object as the answer to this exercise.</div>"
      ]
    },
    {
      "cell_type": "markdown",
      "metadata": {
        "id": "tT7006mn04ci",
        "colab_type": "text"
      },
      "source": [
        "## Quantitative data"
      ]
    },
    {
      "cell_type": "markdown",
      "metadata": {
        "id": "rC3_1m4b04ci",
        "colab_type": "text"
      },
      "source": [
        "With our subsetting tools in hand, we’ll now return to the task of the day: making basic summaries of the BRFSS questionnaire. We’ve already looked at categorical data such as `smoke` and `gender` so now let’s turn our attention to quantitative data. Two common ways to visualize quantitative data are with box plots and histograms. We can construct a box plot for a single variable with the following command."
      ]
    },
    {
      "cell_type": "code",
      "metadata": {
        "id": "WLhcPOGq04cj",
        "colab_type": "code",
        "colab": {},
        "outputId": "b880100f-d0cb-4b52-89a4-fbe62aec91f8"
      },
      "source": [
        "cdc['height'].plot(kind='box')\n",
        "plt.show(); "
      ],
      "execution_count": 0,
      "outputs": [
        {
          "output_type": "display_data",
          "data": {
            "image/png": "[encoded data removed]",
            "text/plain": [
              "<Figure size 720x360 with 1 Axes>"
            ]
          },
          "metadata": {
            "tags": [],
            "image/png": {
              "height": 304,
              "width": 593
            }
          }
        }
      ]
    },
    {
      "cell_type": "markdown",
      "metadata": {
        "id": "TStO4R8V04cm",
        "colab_type": "text"
      },
      "source": [
        "You can compare the locations of the components of the box by examining the summary statistics."
      ]
    },
    {
      "cell_type": "code",
      "metadata": {
        "id": "wY8ctaaN04cm",
        "colab_type": "code",
        "colab": {},
        "outputId": "887f8bdb-d152-42eb-bbc6-5abc7ceea0a4"
      },
      "source": [
        "cdc['height'].describe()"
      ],
      "execution_count": 0,
      "outputs": [
        {
          "output_type": "execute_result",
          "data": {
            "text/plain": [
              "count    20000.000000\n",
              "mean        67.182900\n",
              "std          4.125954\n",
              "min         48.000000\n",
              "25%         64.000000\n",
              "50%         67.000000\n",
              "75%         70.000000\n",
              "max         93.000000\n",
              "Name: height, dtype: float64"
            ]
          },
          "metadata": {
            "tags": []
          },
          "execution_count": 34
        }
      ]
    },
    {
      "cell_type": "markdown",
      "metadata": {
        "id": "K-db1X7E04co",
        "colab_type": "text"
      },
      "source": [
        "Confirm that the median and upper and lower quartiles reported in the numerical summary match those in the graph. The purpose of a boxplot is to provide a thumbnail sketch of a variable for the purpose of comparing across several categories. So we can, for example, compare the heights of men and women with"
      ]
    },
    {
      "cell_type": "code",
      "metadata": {
        "id": "TJoCfVrH04cp",
        "colab_type": "code",
        "colab": {},
        "outputId": "db14f3e3-3b13-4a10-b476-66b5f47481d9"
      },
      "source": [
        "cdc.boxplot(column = 'height', by = 'gender')\n",
        "plt.show(); "
      ],
      "execution_count": 0,
      "outputs": [
        {
          "output_type": "display_data",
          "data": {
            "image/png": "[encoded data removed]",
            "text/plain": [
              "<Figure size 720x360 with 1 Axes>"
            ]
          },
          "metadata": {
            "tags": [],
            "image/png": {
              "height": 345,
              "width": 611
            }
          }
        }
      ]
    },
    {
      "cell_type": "markdown",
      "metadata": {
        "id": "mgZZJqoD04cr",
        "colab_type": "text"
      },
      "source": [
        "Instead using matplotlib.pyplot, we can use pandas' `boxplot()` to give us a box plots of heights where the groups are defined by gender.\n",
        "\n",
        "Next let’s consider a new variable that doesn’t show up directly in this data set: Body Mass Index ([BMI](http://en.wikipedia.org/wiki/Body_mass_index)). BMI is a weight to height ratio and can be calculated as:"
      ]
    },
    {
      "cell_type": "code",
      "metadata": {
        "id": "ICHpvcRe04cs",
        "colab_type": "code",
        "colab": {
          "base_uri": "https://localhost:8080/",
          "height": 70
        },
        "outputId": "27b04716-f3e2-4f96-cd17-558c896bb11a"
      },
      "source": [
        "from IPython.display import Image\n",
        "Image(url= 'https://wikimedia.org/api/rest_v1/media/math/render/svg/a25f48e7bcb8270653f7b027e6dce80f0b6fcd90')"
      ],
      "execution_count": 16,
      "outputs": [
        {
          "output_type": "execute_result",
          "data": {
            "text/html": [
              "<img src=\"https://wikimedia.org/api/rest_v1/media/math/render/svg/a25f48e7bcb8270653f7b027e6dce80f0b6fcd90\"/>"
            ],
            "text/plain": [
              "<IPython.core.display.Image object>"
            ]
          },
          "metadata": {
            "tags": []
          },
          "execution_count": 16
        }
      ]
    },
    {
      "cell_type": "markdown",
      "metadata": {
        "id": "8uNjTwlg04ct",
        "colab_type": "text"
      },
      "source": [
        "703 is the approximate conversion factor to change units from metric (meters and kilograms) to imperial (inches and pounds).\n",
        "\n",
        "The following two lines first make a new object called `bmi` and then creates box plots of these values using `seaborn` library, defining groups by the variable `genhlth`."
      ]
    },
    {
      "cell_type": "code",
      "metadata": {
        "id": "QFveRXdA04cu",
        "colab_type": "code",
        "colab": {}
      },
      "source": [
        "bmi = (cdc['weight'] / (cdc['height'])**2) * 703"
      ],
      "execution_count": 0,
      "outputs": []
    },
    {
      "cell_type": "code",
      "metadata": {
        "id": "ZYk0cMMb04cx",
        "colab_type": "code",
        "colab": {
          "base_uri": "https://localhost:8080/",
          "height": 335
        },
        "outputId": "0a2b9f99-8e9b-4c9a-c69f-99342847edc9"
      },
      "source": [
        "import seaborn as sns\n",
        "sns.boxplot(x = cdc['genhlth'], y = bmi)\n",
        "plt.show(); "
      ],
      "execution_count": 18,
      "outputs": [
        {
          "output_type": "display_data",
          "data": {
            "image/png": "[encoded data removed]",
            "text/plain": [
              "<Figure size 720x360 with 1 Axes>"
            ]
          },
          "metadata": {
            "tags": [],
            "image/png": {
              "width": 592,
              "height": 318
            }
          }
        }
      ]
    },
    {
      "cell_type": "markdown",
      "metadata": {
        "id": "yb9G3JUC04c0",
        "colab_type": "text"
      },
      "source": [
        "Notice that the first line above is just some arithmetic, but it’s applied to all 20,000 numbers in the `cdc` data set. That is, for each of the 20,000 participants, we take their weight, divide by their height-squared and then multiply by 703. The result is 20,000 BMI values, one for each respondent."
      ]
    },
    {
      "cell_type": "markdown",
      "metadata": {
        "id": "mlfS34aC04c1",
        "colab_type": "text"
      },
      "source": [
        "<div class = 'exercise'>\n",
        "<h4>Exercise 5</h4>\n",
        "What does this box plot show? Pick another categorical variable from the data set and see how it relates to BMI. List the variable you chose, why you might think it would have a relationship to BMI, and indicate what the figure seems to suggest.\n",
        "</div>"
      ]
    },
    {
      "cell_type": "markdown",
      "metadata": {
        "id": "14iiBonw04c2",
        "colab_type": "text"
      },
      "source": [
        "Finally, let's make some histograms. We can look at the histogram for the age of our respondents with the command"
      ]
    },
    {
      "cell_type": "code",
      "metadata": {
        "id": "QFQR--6504c3",
        "colab_type": "code",
        "colab": {
          "base_uri": "https://localhost:8080/",
          "height": 319
        },
        "outputId": "f053aa1e-bc34-406b-9169-c1e31f1e73b5"
      },
      "source": [
        "cdc['age'].plot(kind = 'hist', edgecolor = 'black', linewidth = 1.2)\n",
        "plt.show(); "
      ],
      "execution_count": 19,
      "outputs": [
        {
          "output_type": "display_data",
          "data": {
            "image/png": "[encoded data removed]",
            "text/plain": [
              "<Figure size 720x360 with 1 Axes>"
            ]
          },
          "metadata": {
            "tags": [],
            "image/png": {
              "width": 621,
              "height": 302
            }
          }
        }
      ]
    },
    {
      "cell_type": "markdown",
      "metadata": {
        "id": "qeRwWhUb04c7",
        "colab_type": "text"
      },
      "source": [
        "Histograms are generally a very good way to see the shape of a single distribution, but that shape can change depending on how the data is split between the different bins. You can control the number of bins by adding an argument to the command. In the next two lines, we first make a default histogram of `bmi` and then one with the bin size of 50."
      ]
    },
    {
      "cell_type": "code",
      "metadata": {
        "id": "cBao-9I904c7",
        "colab_type": "code",
        "colab": {
          "base_uri": "https://localhost:8080/",
          "height": 621
        },
        "outputId": "2dbd2586-3f34-46d5-b25f-c097d09acec3"
      },
      "source": [
        "bmi.plot(kind = 'hist', color = 'yellow', edgecolor = 'black', linewidth = 1.2)\n",
        "plt.show(); \n",
        "bmi.plot(kind = 'hist', color = 'purple', edgecolor = 'black', linewidth = 1.2, bins = 50)\n",
        "plt.show(); "
      ],
      "execution_count": 20,
      "outputs": [
        {
          "output_type": "display_data",
          "data": {
            "image/png": "[encoded data removed]",
            "text/plain": [
              "<Figure size 720x360 with 1 Axes>"
            ]
          },
          "metadata": {
            "tags": [],
            "image/png": {
              "width": 621,
              "height": 302
            }
          }
        },
        {
          "output_type": "display_data",
          "data": {
            "image/png": "[encoded data removed]",
            "text/plain": [
              "<Figure size 720x360 with 1 Axes>"
            ]
          },
          "metadata": {
            "tags": [],
            "image/png": {
              "width": 621,
              "height": 302
            }
          }
        }
      ]
    },
    {
      "cell_type": "markdown",
      "metadata": {
        "id": "uWR11Zh804c_",
        "colab_type": "text"
      },
      "source": [
        "How do these two histograms compare?\n",
        "\n",
        "At this point, we've done a good first pass at analyzing the information in the BRFSS questionnaire. We've found an interesting association between smoking and gender, and we can say something about the relationship between people's assessment of their general health and their own BMI. We've also picked up essential computing tools – summary statistics, subsetting, and plots – that will serve us well throughout this course."
      ]
    },
    {
      "cell_type": "markdown",
      "metadata": {
        "id": "q3uB9K7P04dA",
        "colab_type": "text"
      },
      "source": [
        "---\n",
        "## On Your Own\n",
        "\n",
        "<ol>\n",
        "    <li>Make a scatterplot of weight versus desired weight. Describe the relationship between these two variables.</li><br>\n",
        "    <li> Let’s consider a new variable: the difference between desired weight (<code>wtdesire</code>) and current weight (<code>weight</code>). Create this new variable by subtracting the two columns in the DataFrame and assigning them to a new object called <code>wdiff</code>.</li><br>\n",
        "    <li>What type of data is <code>wdiff</code>? If an observation <code>wdiff</code> is 0, what does this mean about the person's weight and desired weight. What if <code>wdiff</code> is positive or negative?</li><br>\n",
        "    <li>Describe the distribution of <code>wdiff</code> in terms of its center, shape, and spread, including any plots you use. What does this tell us about how people feel about their current weight?\n",
        "</li><br>\n",
        "    <li>Using numerical summaries and a side-by-side box plot, determine if men tend to view their weight differently than women.</li><br>\n",
        "    <li>Now it’s time to get creative. Find the mean and standard deviation of <code>weight</code> and determine what proportion of the weights are within one standard deviation of the mean.</li>\n",
        "</ol>"
      ]
    },
    {
      "cell_type": "code",
      "metadata": {
        "id": "mePDZ3Tv82-g",
        "colab_type": "code",
        "colab": {
          "base_uri": "https://localhost:8080/",
          "height": 335
        },
        "outputId": "200d3fc8-fd58-419f-bb92-16e5cd7accce"
      },
      "source": [
        "#QUESTION 1\n",
        "import seaborn as sns\n",
        "ax = sns.scatterplot(x=\"weight\", y=\"wtdesire\", data=cdc)"
      ],
      "execution_count": 76,
      "outputs": [
        {
          "output_type": "display_data",
          "data": {
            "image/png": "[encoded data removed]",
            "text/plain": [
              "<Figure size 720x360 with 1 Axes>"
            ]
          },
          "metadata": {
            "tags": [],
            "image/png": {
              "width": 614,
              "height": 318
            }
          }
        }
      ]
    },
    {
      "cell_type": "markdown",
      "metadata": {
        "id": "RubGDGuuuT5t",
        "colab_type": "text"
      },
      "source": [
        "We can notice a correlation between weight and the desire weight. The bigger the weight the bigger the desire weight. "
      ]
    },
    {
      "cell_type": "code",
      "metadata": {
        "id": "acVDM1mtEqug",
        "colab_type": "code",
        "colab": {}
      },
      "source": [
        "#question 2 \n",
        "\n",
        "cdc[\"wdiff\"]=cdc[\"wtdesire\"] -cdc[\"weight\"]"
      ],
      "execution_count": 0,
      "outputs": []
    },
    {
      "cell_type": "markdown",
      "metadata": {
        "id": "6A9E2ee6JIvW",
        "colab_type": "text"
      },
      "source": [
        "#question 3:What type of data is wdiff? If an observation wdiff is 0, what does this mean about the person's weight and desired weight. What if wdiff is positive or negative?\n",
        "\n",
        "The type of data is numerical and discrete. If an observation is 0 it means that the desire weight and the weight are equal. If wdiff is Positive it means that the desire weight is bigger than the weight so in another way that the people gain weight. if wdiff is negative it means that weight is bigger than desire weight and then in this case we can assume that there si a loss of weight.\n"
      ]
    },
    {
      "cell_type": "code",
      "metadata": {
        "id": "gR-erDoDLcr2",
        "colab_type": "code",
        "colab": {
          "base_uri": "https://localhost:8080/",
          "height": 336
        },
        "outputId": "b10e0154-5cf5-4426-e844-91e4aa22def7"
      },
      "source": [
        "#QUESTION 4\n",
        "cdc['wdiff'].plot(kind = 'hist', edgecolor = 'black', linewidth = 1.2, bins=40)"
      ],
      "execution_count": 44,
      "outputs": [
        {
          "output_type": "execute_result",
          "data": {
            "text/plain": [
              "<matplotlib.axes._subplots.AxesSubplot at 0x7ff1253d64e0>"
            ]
          },
          "metadata": {
            "tags": []
          },
          "execution_count": 44
        },
        {
          "output_type": "display_data",
          "data": {
            "image/png": "[encoded data removed]",
            "text/plain": [
              "<Figure size 720x360 with 1 Axes>"
            ]
          },
          "metadata": {
            "tags": [],
            "image/png": {
              "width": 621,
              "height": 302
            }
          }
        }
      ]
    },
    {
      "cell_type": "markdown",
      "metadata": {
        "id": "2v8J0AFK04dA",
        "colab_type": "text"
      },
      "source": [
        "<div class = \"license\">\n",
        "This lab was adapted by Vural Aksakalli and Imran Ture from OpenIntro by Andrew Bray and Mine Çetinkaya-Rundel.\n",
        "</div>"
      ]
    },
    {
      "cell_type": "code",
      "metadata": {
        "id": "UZei73YtN28i",
        "colab_type": "code",
        "colab": {
          "base_uri": "https://localhost:8080/",
          "height": 170
        },
        "outputId": "699a0774-22e2-4b28-8727-c0d93703f2c1"
      },
      "source": [
        "cdc['wdiff'].describe()\n"
      ],
      "execution_count": 41,
      "outputs": [
        {
          "output_type": "execute_result",
          "data": {
            "text/plain": [
              "count    20000.000000\n",
              "mean       -14.589100\n",
              "std         24.045856\n",
              "min       -300.000000\n",
              "25%        -21.000000\n",
              "50%        -10.000000\n",
              "75%          0.000000\n",
              "max        500.000000\n",
              "Name: wdiff, dtype: float64"
            ]
          },
          "metadata": {
            "tags": []
          },
          "execution_count": 41
        }
      ]
    },
    {
      "cell_type": "markdown",
      "metadata": {
        "id": "vYFDNZnRSdaR",
        "colab_type": "text"
      },
      "source": [
        "from the histogram we can see that the dstrubution is left skwed, this show that more people loose weight thna gaining weight. Also we can see a majority of the people, 75% in in the 0 meaning theur weight and their expected weight are the same. This tells us that most of the poeple want to losse weight. "
      ]
    },
    {
      "cell_type": "code",
      "metadata": {
        "id": "C_TD_dqWTY1D",
        "colab_type": "code",
        "colab": {
          "base_uri": "https://localhost:8080/",
          "height": 362
        },
        "outputId": "93a7111c-5f8a-4dc7-eb09-7a4961864aa5"
      },
      "source": [
        "# QUESTION 5: Using numerical summaries and a side-by-side box plot, determine if men tend to view their weight differently than women.\n",
        "cdc.boxplot(column = 'wdiff', by = 'gender')\n",
        "plt.show(); \n"
      ],
      "execution_count": 73,
      "outputs": [
        {
          "output_type": "display_data",
          "data": {
            "image/png": "[encoded data removed]",
            "text/plain": [
              "<Figure size 720x360 with 1 Axes>"
            ]
          },
          "metadata": {
            "tags": [],
            "image/png": {
              "width": 625,
              "height": 345
            }
          }
        }
      ]
    },
    {
      "cell_type": "markdown",
      "metadata": {
        "id": "CstNdNtLsEik",
        "colab_type": "text"
      },
      "source": [
        "From this we can see that there is almost no diffrence or a small one between how men and women view their weight.The small difference concern only the fact that men want to gain more weight than the women.  "
      ]
    },
    {
      "cell_type": "code",
      "metadata": {
        "id": "BHUDmTrriURy",
        "colab_type": "code",
        "colab": {
          "base_uri": "https://localhost:8080/",
          "height": 34
        },
        "outputId": "bb682474-08b8-4487-ec21-034d9926f0a0"
      },
      "source": [
        "#Question6: Now it’s time to get creative. Find the mean and standard deviation of weight and determine what proportion of the weights are within one standard deviation of the mean.\n",
        "#mean \n",
        " m=cdc[\"weight\"].mean()\n",
        " m"
      ],
      "execution_count": 61,
      "outputs": [
        {
          "output_type": "execute_result",
          "data": {
            "text/plain": [
              "169.68295"
            ]
          },
          "metadata": {
            "tags": []
          },
          "execution_count": 61
        }
      ]
    },
    {
      "cell_type": "markdown",
      "metadata": {
        "id": "HQaJedME04dB",
        "colab_type": "text"
      },
      "source": [
        "***\n",
        "www.featureranking.com"
      ]
    },
    {
      "cell_type": "code",
      "metadata": {
        "id": "TxNakN0AiouT",
        "colab_type": "code",
        "colab": {
          "base_uri": "https://localhost:8080/",
          "height": 34
        },
        "outputId": "002bf94a-50e1-4d60-a569-ab11e9c56cce"
      },
      "source": [
        "#standard deviation \n",
        "s=cdc[\"weight\"].std()\n",
        "s"
      ],
      "execution_count": 62,
      "outputs": [
        {
          "output_type": "execute_result",
          "data": {
            "text/plain": [
              "40.08096996712"
            ]
          },
          "metadata": {
            "tags": []
          },
          "execution_count": 62
        }
      ]
    },
    {
      "cell_type": "code",
      "metadata": {
        "id": "rhX1TLi0uKYV",
        "colab_type": "code",
        "colab": {}
      },
      "source": [
        ""
      ],
      "execution_count": 0,
      "outputs": []
    }
  ]
}